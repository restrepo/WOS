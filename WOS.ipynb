{
 "cells": [
  {
   "cell_type": "markdown",
   "metadata": {},
   "source": [
    "# Download WEB of Science"
   ]
  },
  {
   "cell_type": "code",
   "execution_count": 62,
   "metadata": {},
   "outputs": [],
   "source": [
    "from webdriver_manager.firefox import GeckoDriverManager\n",
    "from selenium import webdriver\n",
    "from pathlib import Path\n",
    "import time\n",
    "import glob\n",
    "import os\n",
    "import sys\n",
    "import getpass"
   ]
  },
  {
   "cell_type": "code",
   "execution_count": 63,
   "metadata": {},
   "outputs": [],
   "source": [
    "downloads='Downloads'\n",
    "path='{}/{}'.format(os.getenv(\"HOME\"),downloads)"
   ]
  },
  {
   "cell_type": "code",
   "execution_count": 64,
   "metadata": {},
   "outputs": [],
   "source": [
    "# Download file with firefox bypassing popup : Selenium Python\n",
    "# See: https://stackoverflow.com/q/52907319/2268280\n",
    "# TODO: NOT WORKING YET!\n",
    "fp = webdriver.FirefoxProfile()\n",
    "fp.set_preference(\"browser.download.folderList\", 2)\n",
    "fp.set_preference(\"browser.download.manager.showWhenStarting\", False)\n",
    "fp.set_preference(\"browser.download.dir\", path)\n",
    "fp.set_preference(\"browser.helperApps.neverAsk.saveToDisk\", \"text/txt\")"
   ]
  },
  {
   "cell_type": "code",
   "execution_count": 65,
   "metadata": {},
   "outputs": [],
   "source": [
    "home = str(Path.home())\n",
    "try:\n",
    "    browser = webdriver.Firefox(executable_path=\n",
    "          '/home/restrepo/.wdm/geckodriver/v0.23.0/linux64/geckodriver',\n",
    "                               firefox_profile=fp)\n",
    "except:\n",
    "    browser = webdriver.Firefox(\n",
    "            executable_path= GeckoDriverManager().install(),\n",
    "            firefox_profile=fp)"
   ]
  },
  {
   "cell_type": "code",
   "execution_count": 76,
   "metadata": {},
   "outputs": [],
   "source": [
    "url=\"https://login.webofknowledge.com\"\n",
    "browser.get(url)"
   ]
  },
  {
   "cell_type": "code",
   "execution_count": null,
   "metadata": {},
   "outputs": [],
   "source": [
    "email=input('email:')"
   ]
  },
  {
   "cell_type": "code",
   "execution_count": 7,
   "metadata": {},
   "outputs": [
    {
     "name": "stdin",
     "output_type": "stream",
     "text": [
      "password: ········\n"
     ]
    }
   ],
   "source": [
    "passwd=getpass.getpass('password:')"
   ]
  },
  {
   "cell_type": "code",
   "execution_count": 90,
   "metadata": {},
   "outputs": [],
   "source": [
    "browser.find_element_by_name(\"username\").send_keys(\"{}\".format(email))"
   ]
  },
  {
   "cell_type": "code",
   "execution_count": 91,
   "metadata": {},
   "outputs": [],
   "source": [
    "browser.find_element_by_name(\"password\").send_keys(\"{}\".format(passwd))"
   ]
  },
  {
   "cell_type": "code",
   "execution_count": 92,
   "metadata": {},
   "outputs": [],
   "source": [
    "button=browser.find_elements_by_tag_name('button')"
   ]
  },
  {
   "cell_type": "code",
   "execution_count": 93,
   "metadata": {},
   "outputs": [],
   "source": [
    "button[0].click()"
   ]
  },
  {
   "cell_type": "code",
   "execution_count": 94,
   "metadata": {},
   "outputs": [],
   "source": [
    "try:\n",
    "    browser.find_element_by_link_text('continue and establish a new session').click()\n",
    "except:\n",
    "    pass"
   ]
  },
  {
   "cell_type": "code",
   "execution_count": 95,
   "metadata": {},
   "outputs": [],
   "source": [
    "time.sleep(10)\n",
    "qq=browser.find_element_by_name(\"currUrl\")"
   ]
  },
  {
   "cell_type": "code",
   "execution_count": 96,
   "metadata": {},
   "outputs": [],
   "source": [
    "sid=qq.get_attribute('value').split('SID=')"
   ]
  },
  {
   "cell_type": "code",
   "execution_count": 97,
   "metadata": {},
   "outputs": [
    {
     "data": {
      "text/plain": [
       "'8FiLb3M94XuzpYNSgNW'"
      ]
     },
     "execution_count": 97,
     "metadata": {},
     "output_type": "execute_result"
    }
   ],
   "source": [
    "sid[-1]"
   ]
  },
  {
   "cell_type": "code",
   "execution_count": 98,
   "metadata": {},
   "outputs": [],
   "source": [
    "urls=\"https://apps.webofknowledge.com/WOS_AdvancedSearch_input.do?SID={}&product=WOS&search_mode=AdvancedSearch\".format(sid[-1])"
   ]
  },
  {
   "cell_type": "code",
   "execution_count": 99,
   "metadata": {},
   "outputs": [],
   "source": [
    "browser.get(urls)"
   ]
  },
  {
   "cell_type": "code",
   "execution_count": 100,
   "metadata": {},
   "outputs": [],
   "source": [
    "browser.find_element_by_name(\"value(input1)\").send_keys(\"CU=Colombia\")"
   ]
  },
  {
   "cell_type": "code",
   "execution_count": 101,
   "metadata": {},
   "outputs": [],
   "source": [
    "kk=browser.find_element_by_id('search-button').click()"
   ]
  },
  {
   "cell_type": "code",
   "execution_count": 20,
   "metadata": {},
   "outputs": [],
   "source": [
    "urlr=browser.find_element_by_id('hitCount').get_attribute('href')"
   ]
  },
  {
   "cell_type": "code",
   "execution_count": 21,
   "metadata": {},
   "outputs": [],
   "source": [
    "browser.get(urlr)"
   ]
  },
  {
   "cell_type": "markdown",
   "metadata": {},
   "source": [
    "## Loop for each 500 entries"
   ]
  },
  {
   "cell_type": "code",
   "execution_count": 102,
   "metadata": {},
   "outputs": [],
   "source": [
    "try:\n",
    "    results=eval(browser.find_element_by_id('hitCount.top'\n",
    "                               ).text.replace(',',''))\n",
    "except:\n",
    "    results=0\n",
    "if not results:\n",
    "    sys.exit()"
   ]
  },
  {
   "cell_type": "code",
   "execution_count": 103,
   "metadata": {},
   "outputs": [
    {
     "data": {
      "text/plain": [
       "5020"
      ]
     },
     "execution_count": 103,
     "metadata": {},
     "output_type": "execute_result"
    }
   ],
   "source": [
    "results"
   ]
  },
  {
   "cell_type": "code",
   "execution_count": 104,
   "metadata": {},
   "outputs": [],
   "source": [
    "wostep=500\n",
    "lstq=results%wostep\n",
    "results=results-lstq"
   ]
  },
  {
   "cell_type": "code",
   "execution_count": 105,
   "metadata": {},
   "outputs": [],
   "source": [
    "steps=list(range(1,results+wostep,wostep))"
   ]
  },
  {
   "cell_type": "code",
   "execution_count": 106,
   "metadata": {},
   "outputs": [],
   "source": [
    "n=0\n",
    "try:\n",
    "    ll=[ n.split('(')[-1].split(')')[0] for n in sorted(glob.glob(\"{}/savedrecs(*.txt\".format(path))) ]\n",
    "    ll=sorted([eval(l) for l in ll])[::-1]\n",
    "    n=ll[0]\n",
    "except:\n",
    "    pass"
   ]
  },
  {
   "cell_type": "code",
   "execution_count": 107,
   "metadata": {},
   "outputs": [
    {
     "data": {
      "text/plain": [
       "199"
      ]
     },
     "execution_count": 107,
     "metadata": {},
     "output_type": "execute_result"
    }
   ],
   "source": [
    "n"
   ]
  },
  {
   "cell_type": "code",
   "execution_count": 108,
   "metadata": {},
   "outputs": [
    {
     "data": {
      "text/plain": [
       "1"
      ]
     },
     "execution_count": 108,
     "metadata": {},
     "output_type": "execute_result"
    }
   ],
   "source": [
    "#steps=steps[n+1:]\n",
    "steps[0]"
   ]
  },
  {
   "cell_type": "code",
   "execution_count": 109,
   "metadata": {},
   "outputs": [
    {
     "name": "stdout",
     "output_type": "stream",
     "text": [
      "1 500\n",
      "..\n",
      "501 1000\n",
      ".\n",
      "1001 1500\n",
      ".\n",
      "1501 2000\n",
      ".\n",
      "2001 2500\n",
      "\n",
      "2501 3000\n",
      ".\n",
      "3001 3500\n",
      "\n",
      "3501 4000\n",
      "\n",
      "4001 4500\n",
      "\n",
      "4501 4520\n",
      "\n",
      "5001 5020\n",
      "\n"
     ]
    }
   ],
   "source": [
    "slp=0.5\n",
    "nextlooptime=10\n",
    "markFrom=1\n",
    "martTo=500\n",
    "nstep=499\n",
    "for step in steps:\n",
    "    markFrom=step\n",
    "    if step==steps[-2]:\n",
    "        nstep=lstq-1\n",
    "    martkTo=step+nstep\n",
    "    print(markFrom,martkTo)\n",
    "    \n",
    "    #if step>1500:\n",
    "    #    break\n",
    "#if True:\n",
    "    try:\n",
    "        kk=browser.find_element_by_name('export').click()\n",
    "        kk=browser.find_element_by_name(\n",
    "            'Export to Other File Formats').click()\n",
    "    except:\n",
    "        kk=browser.find_elements_by_tag_name(\"button\")\n",
    "        i=[w.text for w in kk].index('Export to Other File Formats')\n",
    "        kk[i].click()\n",
    "\n",
    "    time.sleep(slp)\n",
    "    kk=browser.find_element_by_id('numberOfRecordsRange').click()\n",
    "\n",
    "    time.sleep(slp)\n",
    "    kk=browser.find_element_by_id('markFrom').clear()\n",
    "    kk=browser.find_element_by_id('markFrom').send_keys(\"{}\".format(markFrom))\n",
    "\n",
    "    time.sleep(slp)\n",
    "    kk=browser.find_element_by_id('markTo').clear()\n",
    "    kk=browser.find_element_by_id('markTo').send_keys(\"{}\".format(martkTo))\n",
    "\n",
    "    time.sleep(slp)\n",
    "    #Take the id of the <span id='select2-bib_fields-container'\n",
    "    kk=browser.find_element_by_id('select2-bib_fields-container')\n",
    "    #make click to activate the hidden `<li` options!\n",
    "    kk.click()\n",
    "\n",
    "    #Get the dinamically generated new `<li` options\n",
    "    i=[w.text for w in browser.find_elements_by_tag_name('li')].index('Full Record and Cited References')\n",
    "\n",
    "    time.sleep(slp)\n",
    "    browser.find_elements_by_tag_name('li')[i].click()\n",
    "\n",
    "    #The same for the next dinamycal menu\n",
    "\n",
    "    time.sleep(slp)\n",
    "    kk=browser.find_element_by_id('select2-saveOptions-container').click()\n",
    "\n",
    "    i=[w.text for w in browser.find_elements_by_tag_name('li')].index('Plain Text')\n",
    "\n",
    "    time.sleep(slp)\n",
    "    browser.find_elements_by_tag_name('li')[i].click()\n",
    "\n",
    "    time.sleep(slp)\n",
    "    #Firefox download popup must be configured to save automatically the first time!!!!!\n",
    "    browser.find_element_by_id(\"exportButton\").click()\n",
    "\n",
    "    wtr=range(10)\n",
    "    for wait in wtr:\n",
    "        if glob.glob(\"{}/savedrecs({}).txt\".format(path,n+1)):\n",
    "            n=n+1\n",
    "            break\n",
    "        else:\n",
    "            print('.',end='')\n",
    "            time.sleep(nextlooptime)\n",
    "    print('')\n",
    "    if wait==wtr[-1]:\n",
    "        print('WARNING: Download failed')\n",
    "\n",
    "    time.sleep(slp)\n",
    "    kk=browser.find_element_by_class_name(\"quickoutput-overlay-buttonset\")\n",
    "    kk.find_element_by_tag_name('a').click()\n",
    "    time.sleep(nextlooptime)\n",
    "\n",
    "#TODO:\n",
    "# * Make a logout"
   ]
  },
  {
   "cell_type": "code",
   "execution_count": 34,
   "metadata": {},
   "outputs": [],
   "source": [
    "n=60"
   ]
  },
  {
   "cell_type": "code",
   "execution_count": 55,
   "metadata": {},
   "outputs": [
    {
     "data": {
      "text/plain": [
       "2"
      ]
     },
     "execution_count": 55,
     "metadata": {},
     "output_type": "execute_result"
    }
   ],
   "source": [
    "1+1"
   ]
  },
  {
   "cell_type": "code",
   "execution_count": null,
   "metadata": {},
   "outputs": [],
   "source": []
  }
 ],
 "metadata": {
  "kernelspec": {
   "display_name": "Python 3",
   "language": "python",
   "name": "python3"
  },
  "language_info": {
   "codemirror_mode": {
    "name": "ipython",
    "version": 3
   },
   "file_extension": ".py",
   "mimetype": "text/x-python",
   "name": "python",
   "nbconvert_exporter": "python",
   "pygments_lexer": "ipython3",
   "version": "3.5.3"
  }
 },
 "nbformat": 4,
 "nbformat_minor": 4
}
