{
 "cells": [
  {
   "cell_type": "markdown",
   "metadata": {},
   "source": [
    "#TODO → Configure download folder"
   ]
  },
  {
   "cell_type": "code",
   "execution_count": 1,
   "metadata": {},
   "outputs": [],
   "source": [
    "import helium as hell\n",
    "from pathlib import Path\n",
    "import time\n",
    "import glob\n",
    "import os\n",
    "import sys\n",
    "import getpass\n",
    "#from bs4 import BeautifulSoup\n",
    "from selenium.webdriver.common.keys import Keys"
   ]
  },
  {
   "cell_type": "code",
   "execution_count": 2,
   "metadata": {},
   "outputs": [],
   "source": [
    "downloads='Downloads'\n",
    "path='{}/{}'.format(os.getenv(\"HOME\"),downloads)"
   ]
  },
  {
   "cell_type": "code",
   "execution_count": 3,
   "metadata": {},
   "outputs": [],
   "source": [
    "url=\"https://login.webofknowledge.com\"\n",
    "url_login=\"https://login.ezproxy.unal.edu.co/login?url=http://www.webofknowledge.com\"\n",
    "#browser=hell.start_firefox(url_login)\n",
    "browser=hell.start_chrome(url_login)"
   ]
  },
  {
   "cell_type": "code",
   "execution_count": 4,
   "metadata": {},
   "outputs": [
    {
     "name": "stdin",
     "output_type": "stream",
     "text": [
      "user: anmsotohe\n"
     ]
    }
   ],
   "source": [
    "user=input('user:') #or email"
   ]
  },
  {
   "cell_type": "code",
   "execution_count": 5,
   "metadata": {},
   "outputs": [
    {
     "name": "stdin",
     "output_type": "stream",
     "text": [
      "password: ·············\n"
     ]
    }
   ],
   "source": [
    "passwd=getpass.getpass('password:')"
   ]
  },
  {
   "cell_type": "markdown",
   "metadata": {},
   "source": [
    "Configuration"
   ]
  },
  {
   "cell_type": "code",
   "execution_count": 6,
   "metadata": {},
   "outputs": [],
   "source": [
    "country='Argentina'\n",
    "UPDATE=False\n",
    "UPDATE_from='2020'\n",
    "SciELO=True"
   ]
  },
  {
   "cell_type": "code",
   "execution_count": 7,
   "metadata": {},
   "outputs": [],
   "source": [
    "i=1\n",
    "into_user=['Email address','usuario']\n",
    "password=[\"Password\",\"contraseña\"]\n",
    "tag_name=['Sign In','Ingresar']\n",
    "extra_url=[\"\",\".ezproxy.unal.edu.co\"]"
   ]
  },
  {
   "cell_type": "code",
   "execution_count": 8,
   "metadata": {},
   "outputs": [],
   "source": [
    "hell.write(user,into=into_user[i])"
   ]
  },
  {
   "cell_type": "code",
   "execution_count": 9,
   "metadata": {},
   "outputs": [],
   "source": [
    "hell.write(passwd,into=password[i])"
   ]
  },
  {
   "cell_type": "markdown",
   "metadata": {},
   "source": [
    "<!-- \n",
    "email='restrepo@udea.edu.co'\n",
    "passwd='666Opoqdh1!888'\n",
    "-->"
   ]
  },
  {
   "cell_type": "code",
   "execution_count": 10,
   "metadata": {},
   "outputs": [],
   "source": [
    "hell.click(tag_name[i])"
   ]
  },
  {
   "cell_type": "code",
   "execution_count": 11,
   "metadata": {},
   "outputs": [],
   "source": [
    "try:\n",
    "    browser.find_element_by_link_text('continue and establish a new session').click()\n",
    "except:\n",
    "    pass"
   ]
  },
  {
   "cell_type": "code",
   "execution_count": 38,
   "metadata": {},
   "outputs": [],
   "source": [
    "#TODO → Select Scielo\n",
    "if SciELO:\n",
    "    br=browser.find_elements_by_class_name(\"select2-selection__rendered\")    \n",
    "    hell.click(br[0].text)\n",
    "    hell.click('SciELO Citation Index')"
   ]
  },
  {
   "cell_type": "code",
   "execution_count": 39,
   "metadata": {},
   "outputs": [],
   "source": [
    "hell.click('Advanced Search')"
   ]
  },
  {
   "cell_type": "code",
   "execution_count": 40,
   "metadata": {},
   "outputs": [],
   "source": [
    "#time.sleep(10)\n",
    "#qq=browser.find_element_by_name(\"currUrl\")\n",
    "#sid=qq.get_attribute('value').split('SID=')\n",
    "#sid[-1]\n",
    "#urls=\"https://apps.webofknowledge.com{}/WOS_AdvancedSearch_input.do?SID={}&product=WOS&search_mode=AdvancedSearch\".format(extra_url[i],sid[-1])\n",
    "#browser.get(urls)"
   ]
  },
  {
   "cell_type": "code",
   "execution_count": 41,
   "metadata": {},
   "outputs": [],
   "source": [
    "browser.find_element_by_name(\"value(input1)\").send_keys(f\"CU={country}\")"
   ]
  },
  {
   "cell_type": "code",
   "execution_count": 42,
   "metadata": {},
   "outputs": [],
   "source": [
    "CONTINUE_UPDATE=False\n",
    "br=browser.find_elements_by_class_name(\"select2-selection__rendered\")\n",
    "if UPDATE and br[1].text.find('All years')>-1:\n",
    "    CONTINUE_UPDATE=True\n",
    "    br[1].click()\n",
    "if CONTINUE_UPDATE:\n",
    "    time.sleep(1)    \n",
    "    hell.click(\"Custom year range\")\n",
    "    time.sleep(1)\n",
    "    kk=browser.find_elements_by_class_name(\"select2-selection__rendered\")\n",
    "    kk[2].click()\n",
    "    kk=browser.find_element_by_class_name(\"select2-search__field\")\n",
    "    kk.send_keys(UPDATE_from)\n",
    "    kk.send_keys(Keys.ENTER)"
   ]
  },
  {
   "cell_type": "code",
   "execution_count": 43,
   "metadata": {},
   "outputs": [],
   "source": [
    "hell.click('Search')"
   ]
  },
  {
   "cell_type": "code",
   "execution_count": 44,
   "metadata": {},
   "outputs": [],
   "source": [
    "urlr=browser.find_element_by_id('hitCount').get_attribute('href')"
   ]
  },
  {
   "cell_type": "code",
   "execution_count": 45,
   "metadata": {},
   "outputs": [],
   "source": [
    "browser.get(urlr)"
   ]
  },
  {
   "cell_type": "code",
   "execution_count": 46,
   "metadata": {},
   "outputs": [],
   "source": [
    "try:\n",
    "    results=eval(browser.find_element_by_id('hitCount.top'\n",
    "                               ).text.replace(',',''))\n",
    "except:\n",
    "    results=0\n",
    "if not results:\n",
    "    sys.exit()"
   ]
  },
  {
   "cell_type": "code",
   "execution_count": 47,
   "metadata": {},
   "outputs": [
    {
     "data": {
      "text/plain": [
       "37152"
      ]
     },
     "execution_count": 47,
     "metadata": {},
     "output_type": "execute_result"
    }
   ],
   "source": [
    "wosmax=100000\n",
    "results"
   ]
  },
  {
   "cell_type": "code",
   "execution_count": 48,
   "metadata": {},
   "outputs": [],
   "source": [
    "if results>wosmax:\n",
    "    hell.click(\"more options / values...\")\n",
    "    time.sleep(5)"
   ]
  },
  {
   "cell_type": "code",
   "execution_count": 49,
   "metadata": {},
   "outputs": [],
   "source": [
    "if results>wosmax:\n",
    "    ob={}\n",
    "    for j in range(1,100):\n",
    "        try:\n",
    "            br=browser.find_element_by_id(f'PY_{j}')\n",
    "        except:\n",
    "            break\n",
    "        if br.get_attribute('value').find('PublicationYear_')>-1:\n",
    "            year=br.get_attribute('value').split('_')[-1]\n",
    "            if isinstance(year,str):\n",
    "                ob[eval(year)]=br    \n",
    "        else:\n",
    "            break\n",
    "\n",
    "\n",
    "    ct={}\n",
    "    for rI in browser.find_elements_by_class_name('refineItem'):\n",
    "        try:\n",
    "            rIl=rI.text.split()\n",
    "            ct[eval(rIl[0])]=eval(rI.text.split()[-1].replace(',',''))\n",
    "        except:\n",
    "            pass\n",
    "\n",
    "    years=sorted(ct.keys())\n",
    "    years.reverse()\n",
    "\n",
    "    results=0\n",
    "    for y in years:\n",
    "        c=ct[y]\n",
    "        if results+c<wosmax:\n",
    "            results=results+c\n",
    "            ob[y].click()\n",
    "            time.sleep(1)            \n",
    "        else:\n",
    "            break\n",
    "    time.sleep(1)\n",
    "    bts=browser.find_element_by_class_name(\"ra_button_row\")\n",
    "    bts.find_element_by_tag_name(\"button\").click()\n"
   ]
  },
  {
   "cell_type": "code",
   "execution_count": 50,
   "metadata": {},
   "outputs": [],
   "source": [
    "#results=sum([ ct[yy] for yy in [y for y in years if y<2015 and y>2002  ] ] )\n",
    "#results=16649"
   ]
  },
  {
   "cell_type": "code",
   "execution_count": 51,
   "metadata": {},
   "outputs": [],
   "source": [
    "wostep=500\n",
    "lstq=results%wostep\n",
    "results=results-lstq"
   ]
  },
  {
   "cell_type": "code",
   "execution_count": 52,
   "metadata": {},
   "outputs": [],
   "source": [
    "steps=list(range(1,results+wostep,wostep))"
   ]
  },
  {
   "cell_type": "code",
   "execution_count": 53,
   "metadata": {},
   "outputs": [],
   "source": [
    "n=0\n",
    "try:\n",
    "    ll=[ n.split('(')[-1].split(')')[0] for n in sorted(glob.glob(\"{}/savedrecs(*.txt\".format(path))) ]\n",
    "    ll=sorted([eval(l) for l in ll])[::-1]\n",
    "    n=ll[0]\n",
    "except:\n",
    "    pass"
   ]
  },
  {
   "cell_type": "code",
   "execution_count": 54,
   "metadata": {},
   "outputs": [],
   "source": [
    "n=-1"
   ]
  },
  {
   "cell_type": "code",
   "execution_count": 55,
   "metadata": {},
   "outputs": [
    {
     "data": {
      "text/plain": [
       "35501"
      ]
     },
     "execution_count": 55,
     "metadata": {},
     "output_type": "execute_result"
    }
   ],
   "source": [
    "steps=steps[n+1:]\n",
    "steps[0]"
   ]
  },
  {
   "cell_type": "code",
   "execution_count": 56,
   "metadata": {},
   "outputs": [
    {
     "name": "stdout",
     "output_type": "stream",
     "text": [
      "35501 36000\n"
     ]
    }
   ],
   "source": [
    "nstep=499\n",
    "for step in steps:\n",
    "    markFrom=step\n",
    "    if step==steps[-2]:\n",
    "        nstep=lstq-1\n",
    "    martkTo=step+nstep\n",
    "    print(markFrom,martkTo)\n",
    "    break"
   ]
  },
  {
   "cell_type": "code",
   "execution_count": 57,
   "metadata": {},
   "outputs": [
    {
     "name": "stdout",
     "output_type": "stream",
     "text": [
      "35501 36000 70\n",
      "\n",
      "36001 36500 71\n",
      "\n",
      "36501 36652 72\n",
      "\n",
      "37001 37152 73\n",
      "\n"
     ]
    }
   ],
   "source": [
    "slp=0.5\n",
    "nextlooptime=10\n",
    "markFrom=1\n",
    "martTo=500\n",
    "nstep=499\n",
    "for step in steps:\n",
    "    markFrom=step\n",
    "    if step==steps[-2]:\n",
    "        nstep=lstq-1\n",
    "    martkTo=step+nstep\n",
    "    print(markFrom,martkTo,n)\n",
    "    \n",
    "    #if step>1500:\n",
    "    #    break\n",
    "#if True:\n",
    "    try:\n",
    "        kk=browser.find_element_by_name('export').click()\n",
    "        kk=browser.find_element_by_name(\n",
    "            'Export to Other File Formats').click()\n",
    "    except:\n",
    "        kk=browser.find_elements_by_tag_name(\"button\")\n",
    "        i=[w.text for w in kk].index('Export to Other File Formats')\n",
    "        kk[i].click()\n",
    "\n",
    "    time.sleep(slp)\n",
    "    kk=browser.find_element_by_id('numberOfRecordsRange').click()\n",
    "\n",
    "    time.sleep(slp)\n",
    "    kk=browser.find_element_by_id('markFrom').clear()\n",
    "    kk=browser.find_element_by_id('markFrom').send_keys(\"{}\".format(markFrom))\n",
    "\n",
    "    time.sleep(slp)\n",
    "    kk=browser.find_element_by_id('markTo').clear()\n",
    "    kk=browser.find_element_by_id('markTo').send_keys(\"{}\".format(martkTo))\n",
    "\n",
    "    time.sleep(slp)\n",
    "    #Take the id of the <span id='select2-bib_fields-container'\n",
    "    kk=browser.find_element_by_id('select2-bib_fields-container')\n",
    "    #make click to activate the hidden `<li` options!\n",
    "    kk.click()\n",
    "\n",
    "    #Get the dinamically generated new `<li` options\n",
    "    i=[w.text for w in browser.find_elements_by_tag_name('li')].index('Full Record and Cited References')\n",
    "\n",
    "    time.sleep(slp)\n",
    "    browser.find_elements_by_tag_name('li')[i].click()\n",
    "\n",
    "    #The same for the next dinamycal menu\n",
    "\n",
    "    time.sleep(slp)\n",
    "    kk=browser.find_element_by_id('select2-saveOptions-container').click()\n",
    "\n",
    "    i=[w.text for w in browser.find_elements_by_tag_name('li')].index('Plain Text')\n",
    "\n",
    "    time.sleep(slp)\n",
    "    browser.find_elements_by_tag_name('li')[i].click()\n",
    "\n",
    "    time.sleep(slp)\n",
    "    #Firefox download popup must be configured to save automatically the first time!!!!!\n",
    "    browser.find_element_by_id(\"exportButton\").click()\n",
    "\n",
    "    #wtr=range(10)\n",
    "    #for wait in wtr:\n",
    "    #    if glob.glob(\"{}/savedrecs({}).txt\".format(path,n+1)):\n",
    "    #        print('va')\n",
    "    if True:\n",
    "            n=n+1\n",
    "    #        break\n",
    "    #    else:\n",
    "    #        print('.',end='')\n",
    "    #        time.sleep(nextlooptime)\n",
    "    print('')\n",
    "    #TODO: break for n=0\n",
    "    #if wait==wtr[-1] and n>0:\n",
    "    #    print('WARNING: Download failed')\n",
    "\n",
    "    time.sleep(slp)\n",
    "    #kk=browser.find_element_by_class_name(\"quickoutput-overlay-buttonset\")\n",
    "    #kk.find_element_by_tag_name('a').click()\n",
    "    time.sleep(nextlooptime)\n",
    "\n",
    "#TODO:\n",
    "# * Make a logout"
   ]
  },
  {
   "cell_type": "code",
   "execution_count": 58,
   "metadata": {},
   "outputs": [],
   "source": [
    "browser.close()"
   ]
  },
  {
   "cell_type": "code",
   "execution_count": null,
   "metadata": {},
   "outputs": [],
   "source": []
  }
 ],
 "metadata": {
  "kernelspec": {
   "display_name": "Python 3",
   "language": "python",
   "name": "python3"
  },
  "language_info": {
   "codemirror_mode": {
    "name": "ipython",
    "version": 3
   },
   "file_extension": ".py",
   "mimetype": "text/x-python",
   "name": "python",
   "nbconvert_exporter": "python",
   "pygments_lexer": "ipython3",
   "version": "3.7.3"
  }
 },
 "nbformat": 4,
 "nbformat_minor": 4
}
