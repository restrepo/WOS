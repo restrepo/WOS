{
 "cells": [
  {
   "cell_type": "code",
   "execution_count": 1,
   "metadata": {},
   "outputs": [],
   "source": [
    "from selenium.webdriver.chrome.options import Options\n",
    "options = Options()\n",
    "options.binary_location = \"/usr/local/bin/chromedriver\"\n",
    "import helium as hell\n",
    "from pathlib import Path\n",
    "import time\n",
    "import glob\n",
    "import os\n",
    "import sys\n",
    "import getpass\n",
    "#from bs4 import BeautifulSoup\n",
    "from selenium.webdriver.common.keys import Keys"
   ]
  },
  {
   "cell_type": "code",
   "execution_count": 2,
   "metadata": {},
   "outputs": [],
   "source": [
    "downloads='Downloads'\n",
    "path='{}/{}'.format(os.getenv(\"HOME\"),downloads)"
   ]
  },
  {
   "cell_type": "code",
   "execution_count": 3,
   "metadata": {},
   "outputs": [],
   "source": [
    "url=\"https://login.webofknowledge.com\"\n",
    "url_login=\"https://login.ezproxy.unal.edu.co/login?url=http://www.webofknowledge.com\"\n",
    "#browser=hell.start_firefox(url_login)\n",
    "browser=hell.start_chrome(url_login)"
   ]
  },
  {
   "cell_type": "code",
   "execution_count": null,
   "metadata": {},
   "outputs": [],
   "source": [
    "user=input('user:') #or email"
   ]
  },
  {
   "cell_type": "code",
   "execution_count": 5,
   "metadata": {},
   "outputs": [
    {
     "name": "stdin",
     "output_type": "stream",
     "text": [
      "password: ·············\n"
     ]
    }
   ],
   "source": [
    "passwd=getpass.getpass('password:')"
   ]
  },
  {
   "cell_type": "markdown",
   "metadata": {},
   "source": [
    "Configuration"
   ]
  },
  {
   "cell_type": "code",
   "execution_count": 6,
   "metadata": {},
   "outputs": [],
   "source": [
    "country='Colombia'\n",
    "UPDATE=False\n",
    "UPDATE_from='2020'\n",
    "SciELO=True"
   ]
  },
  {
   "cell_type": "code",
   "execution_count": 7,
   "metadata": {},
   "outputs": [],
   "source": [
    "i=1\n",
    "into_user=['Email address','usuario']\n",
    "password=[\"Password\",\"contraseña\"]\n",
    "tag_name=['Sign In','Ingresar']\n",
    "extra_url=[\"\",\".ezproxy.unal.edu.co\"]"
   ]
  },
  {
   "cell_type": "code",
   "execution_count": 8,
   "metadata": {},
   "outputs": [],
   "source": [
    "hell.write(user,into=into_user[i])"
   ]
  },
  {
   "cell_type": "code",
   "execution_count": 9,
   "metadata": {},
   "outputs": [],
   "source": [
    "hell.write(passwd,into=password[i])"
   ]
  },
  {
   "cell_type": "markdown",
   "metadata": {},
   "source": [
    "<!-- \n",
    "email='restrepo@udea.edu.co'\n",
    "passwd='666Opoqdh1!888'\n",
    "-->"
   ]
  },
  {
   "cell_type": "code",
   "execution_count": 10,
   "metadata": {},
   "outputs": [],
   "source": [
    "hell.click(tag_name[i])"
   ]
  },
  {
   "cell_type": "code",
   "execution_count": 11,
   "metadata": {},
   "outputs": [],
   "source": [
    "hell.wait_until(lambda: hell.Text('Accept all').exists())"
   ]
  },
  {
   "cell_type": "code",
   "execution_count": 12,
   "metadata": {},
   "outputs": [],
   "source": [
    "hell.click('Accept all')"
   ]
  },
  {
   "cell_type": "code",
   "execution_count": 38,
   "metadata": {},
   "outputs": [],
   "source": [
    "#TODO → Select Scielo\n",
    "if SciELO:\n",
    "    br=browser.find_elements_by_class_name(\"select2-selection__rendered\")    \n",
    "    hell.click(br[0].text)\n",
    "    hell.click('SciELO Citation Index')"
   ]
  },
  {
   "cell_type": "code",
   "execution_count": 13,
   "metadata": {},
   "outputs": [],
   "source": [
    "hell.click('Advanced Search')"
   ]
  },
  {
   "cell_type": "code",
   "execution_count": 40,
   "metadata": {},
   "outputs": [],
   "source": [
    "#time.sleep(10)\n",
    "#qq=browser.find_element_by_name(\"currUrl\")\n",
    "#sid=qq.get_attribute('value').split('SID=')\n",
    "#sid[-1]\n",
    "#urls=\"https://apps.webofknowledge.com{}/WOS_AdvancedSearch_input.do?SID={}&product=WOS&search_mode=AdvancedSearch\".format(extra_url[i],sid[-1])\n",
    "#browser.get(urls)"
   ]
  },
  {
   "cell_type": "code",
   "execution_count": 14,
   "metadata": {},
   "outputs": [],
   "source": [
    "browser.find_element_by_name(\"search\").send_keys(f\"CU={country}\")"
   ]
  },
  {
   "cell_type": "code",
   "execution_count": 15,
   "metadata": {},
   "outputs": [],
   "source": [
    "hell.click('Search')"
   ]
  },
  {
   "cell_type": "code",
   "execution_count": 16,
   "metadata": {},
   "outputs": [],
   "source": [
    "hell.click('2020')"
   ]
  },
  {
   "cell_type": "code",
   "execution_count": 17,
   "metadata": {},
   "outputs": [],
   "source": [
    "hell.click('2021')"
   ]
  },
  {
   "cell_type": "code",
   "execution_count": 18,
   "metadata": {},
   "outputs": [],
   "source": [
    "hell.click('2022')"
   ]
  },
  {
   "cell_type": "code",
   "execution_count": 19,
   "metadata": {},
   "outputs": [],
   "source": [
    "hell.click('Refine')"
   ]
  },
  {
   "cell_type": "code",
   "execution_count": 20,
   "metadata": {},
   "outputs": [],
   "source": [
    "rr=browser.find_element_by_class_name(\"brand-blue\")"
   ]
  },
  {
   "cell_type": "code",
   "execution_count": 21,
   "metadata": {},
   "outputs": [],
   "source": [
    "results=eval(rr.text.replace(',',''))"
   ]
  },
  {
   "cell_type": "code",
   "execution_count": 22,
   "metadata": {},
   "outputs": [
    {
     "data": {
      "text/plain": [
       "35154"
      ]
     },
     "execution_count": 22,
     "metadata": {},
     "output_type": "execute_result"
    }
   ],
   "source": [
    "results"
   ]
  },
  {
   "cell_type": "code",
   "execution_count": 23,
   "metadata": {},
   "outputs": [],
   "source": [
    "wostep=500\n",
    "lstq=results%wostep\n",
    "results=results-lstq"
   ]
  },
  {
   "cell_type": "code",
   "execution_count": 24,
   "metadata": {},
   "outputs": [],
   "source": [
    "steps=list(range(1,results+wostep,wostep))"
   ]
  },
  {
   "cell_type": "code",
   "execution_count": 25,
   "metadata": {},
   "outputs": [],
   "source": [
    "n=0"
   ]
  },
  {
   "cell_type": "code",
   "execution_count": null,
   "metadata": {},
   "outputs": [
    {
     "name": "stdout",
     "output_type": "stream",
     "text": [
      "1 500\n",
      "501 1000\n",
      "1001 1500\n",
      "1501 2000\n",
      "2001 2500\n",
      "2501 3000\n",
      "3001 3500\n"
     ]
    }
   ],
   "source": [
    "nstep=499\n",
    "slp=0.5\n",
    "for step in steps[n:]:\n",
    "    markFrom=step\n",
    "    martkTo=step+nstep\n",
    "    print(markFrom,martkTo)\n",
    "\n",
    "    time.sleep(slp)\n",
    "    hell.click('Export')\n",
    "    time.sleep(slp)\n",
    "    hell.click('Plain text file')\n",
    "\n",
    "    time.sleep(slp)\n",
    "    hell.click('Records from:')\n",
    "\n",
    "    time.sleep(slp)\n",
    "    hell.click('Author, Title, Source')\n",
    "\n",
    "    time.sleep(slp)\n",
    "    hell.click('Full Record and Cited References')\n",
    "\n",
    "    if True:\n",
    "        time.sleep(slp)\n",
    "        kk=browser.find_element_by_name('markFrom').clear()\n",
    "        kk=browser.find_element_by_name('markFrom').send_keys(\"{}\".format(markFrom))\n",
    "\n",
    "    if True:    \n",
    "        time.sleep(slp)\n",
    "        kk=browser.find_element_by_name('markTo').clear()\n",
    "        kk=browser.find_element_by_name('markTo').send_keys(\"{}\".format(martkTo))\n",
    "\n",
    "    time.sleep(slp)\n",
    "    hell.click('Export')\n",
    "\n",
    "    hell.wait_until(lambda: not hell.Text('No more than 500 records at a time').exists(),timeout_secs=40 )\n",
    "\n",
    "    n+=1\n",
    "    #break"
   ]
  },
  {
   "cell_type": "code",
   "execution_count": 58,
   "metadata": {},
   "outputs": [],
   "source": [
    "browser.close()"
   ]
  },
  {
   "cell_type": "code",
   "execution_count": 89,
   "metadata": {},
   "outputs": [
    {
     "data": {
      "text/plain": [
       "63"
      ]
     },
     "execution_count": 89,
     "metadata": {},
     "output_type": "execute_result"
    }
   ],
   "source": [
    "n=63\n",
    "n"
   ]
  },
  {
   "cell_type": "code",
   "execution_count": null,
   "metadata": {},
   "outputs": [],
   "source": []
  }
 ],
 "metadata": {
  "kernelspec": {
   "display_name": "Python 3 (ipykernel)",
   "language": "python",
   "name": "python3"
  },
  "language_info": {
   "codemirror_mode": {
    "name": "ipython",
    "version": 3
   },
   "file_extension": ".py",
   "mimetype": "text/x-python",
   "name": "python",
   "nbconvert_exporter": "python",
   "pygments_lexer": "ipython3",
   "version": "3.9.2"
  }
 },
 "nbformat": 4,
 "nbformat_minor": 4
}
